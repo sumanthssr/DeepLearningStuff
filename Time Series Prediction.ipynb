{
 "cells": [
  {
   "cell_type": "code",
   "execution_count": 1,
   "metadata": {},
   "outputs": [],
   "source": [
    "import numpy as np\n",
    "import pandas as pd\n",
    "import matplotlib.pyplot as plt\n",
    "%matplotlib inline"
   ]
  },
  {
   "cell_type": "markdown",
   "metadata": {},
   "source": [
    "## Get the dataset and prepare it for analysis and model"
   ]
  },
  {
   "cell_type": "markdown",
   "metadata": {},
   "source": [
    "#### Set the index to date"
   ]
  },
  {
   "cell_type": "code",
   "execution_count": 2,
   "metadata": {},
   "outputs": [
    {
     "data": {
      "text/html": [
       "<div>\n",
       "<style scoped>\n",
       "    .dataframe tbody tr th:only-of-type {\n",
       "        vertical-align: middle;\n",
       "    }\n",
       "\n",
       "    .dataframe tbody tr th {\n",
       "        vertical-align: top;\n",
       "    }\n",
       "\n",
       "    .dataframe thead th {\n",
       "        text-align: right;\n",
       "    }\n",
       "</style>\n",
       "<table border=\"1\" class=\"dataframe\">\n",
       "  <thead>\n",
       "    <tr style=\"text-align: right;\">\n",
       "      <th></th>\n",
       "      <th>Price</th>\n",
       "      <th>Open</th>\n",
       "      <th>High</th>\n",
       "      <th>Low</th>\n",
       "      <th>Change %</th>\n",
       "    </tr>\n",
       "    <tr>\n",
       "      <th>Date</th>\n",
       "      <th></th>\n",
       "      <th></th>\n",
       "      <th></th>\n",
       "      <th></th>\n",
       "      <th></th>\n",
       "    </tr>\n",
       "  </thead>\n",
       "  <tbody>\n",
       "    <tr>\n",
       "      <th>2017-08-10</th>\n",
       "      <td>64.165</td>\n",
       "      <td>63.898</td>\n",
       "      <td>64.175</td>\n",
       "      <td>63.855</td>\n",
       "      <td>0.48</td>\n",
       "    </tr>\n",
       "    <tr>\n",
       "      <th>2017-08-09</th>\n",
       "      <td>63.860</td>\n",
       "      <td>63.780</td>\n",
       "      <td>63.860</td>\n",
       "      <td>63.710</td>\n",
       "      <td>0.26</td>\n",
       "    </tr>\n",
       "    <tr>\n",
       "      <th>2017-08-08</th>\n",
       "      <td>63.692</td>\n",
       "      <td>63.750</td>\n",
       "      <td>63.785</td>\n",
       "      <td>63.615</td>\n",
       "      <td>-0.23</td>\n",
       "    </tr>\n",
       "    <tr>\n",
       "      <th>2017-08-07</th>\n",
       "      <td>63.840</td>\n",
       "      <td>63.710</td>\n",
       "      <td>63.865</td>\n",
       "      <td>63.648</td>\n",
       "      <td>0.26</td>\n",
       "    </tr>\n",
       "    <tr>\n",
       "      <th>2017-08-04</th>\n",
       "      <td>63.675</td>\n",
       "      <td>63.670</td>\n",
       "      <td>63.786</td>\n",
       "      <td>63.572</td>\n",
       "      <td>-0.05</td>\n",
       "    </tr>\n",
       "  </tbody>\n",
       "</table>\n",
       "</div>"
      ],
      "text/plain": [
       "             Price    Open    High     Low  Change %\n",
       "Date                                                \n",
       "2017-08-10  64.165  63.898  64.175  63.855      0.48\n",
       "2017-08-09  63.860  63.780  63.860  63.710      0.26\n",
       "2017-08-08  63.692  63.750  63.785  63.615     -0.23\n",
       "2017-08-07  63.840  63.710  63.865  63.648      0.26\n",
       "2017-08-04  63.675  63.670  63.786  63.572     -0.05"
      ]
     },
     "execution_count": 2,
     "metadata": {},
     "output_type": "execute_result"
    }
   ],
   "source": [
    "df = pd.read_csv('USD_INR.csv')\n",
    "df['Date'] = pd.to_datetime(df[\"Date\"])\n",
    "df_idx = df.set_index([\"Date\"], drop=True)\n",
    "df_idx.head(5)"
   ]
  },
  {
   "cell_type": "markdown",
   "metadata": {},
   "source": [
    "#### Flip the dataframe"
   ]
  },
  {
   "cell_type": "code",
   "execution_count": 3,
   "metadata": {},
   "outputs": [
    {
     "data": {
      "text/html": [
       "<div>\n",
       "<style scoped>\n",
       "    .dataframe tbody tr th:only-of-type {\n",
       "        vertical-align: middle;\n",
       "    }\n",
       "\n",
       "    .dataframe tbody tr th {\n",
       "        vertical-align: top;\n",
       "    }\n",
       "\n",
       "    .dataframe thead th {\n",
       "        text-align: right;\n",
       "    }\n",
       "</style>\n",
       "<table border=\"1\" class=\"dataframe\">\n",
       "  <thead>\n",
       "    <tr style=\"text-align: right;\">\n",
       "      <th></th>\n",
       "      <th>Change %</th>\n",
       "      <th>High</th>\n",
       "      <th>Low</th>\n",
       "      <th>Open</th>\n",
       "      <th>Price</th>\n",
       "    </tr>\n",
       "    <tr>\n",
       "      <th>Date</th>\n",
       "      <th></th>\n",
       "      <th></th>\n",
       "      <th></th>\n",
       "      <th></th>\n",
       "      <th></th>\n",
       "    </tr>\n",
       "  </thead>\n",
       "  <tbody>\n",
       "    <tr>\n",
       "      <th>1980-01-02</th>\n",
       "      <td>0.00</td>\n",
       "      <td>8.00</td>\n",
       "      <td>8.00</td>\n",
       "      <td>8.00</td>\n",
       "      <td>8.00</td>\n",
       "    </tr>\n",
       "    <tr>\n",
       "      <th>1980-01-03</th>\n",
       "      <td>-0.63</td>\n",
       "      <td>7.95</td>\n",
       "      <td>7.95</td>\n",
       "      <td>7.95</td>\n",
       "      <td>7.95</td>\n",
       "    </tr>\n",
       "    <tr>\n",
       "      <th>1980-01-04</th>\n",
       "      <td>1.26</td>\n",
       "      <td>8.05</td>\n",
       "      <td>8.05</td>\n",
       "      <td>8.05</td>\n",
       "      <td>8.05</td>\n",
       "    </tr>\n",
       "    <tr>\n",
       "      <th>1980-01-07</th>\n",
       "      <td>0.00</td>\n",
       "      <td>8.05</td>\n",
       "      <td>8.05</td>\n",
       "      <td>8.05</td>\n",
       "      <td>8.05</td>\n",
       "    </tr>\n",
       "    <tr>\n",
       "      <th>1980-01-08</th>\n",
       "      <td>0.00</td>\n",
       "      <td>8.05</td>\n",
       "      <td>8.05</td>\n",
       "      <td>8.05</td>\n",
       "      <td>8.05</td>\n",
       "    </tr>\n",
       "  </tbody>\n",
       "</table>\n",
       "</div>"
      ],
      "text/plain": [
       "            Change %  High   Low  Open  Price\n",
       "Date                                         \n",
       "1980-01-02      0.00  8.00  8.00  8.00   8.00\n",
       "1980-01-03     -0.63  7.95  7.95  7.95   7.95\n",
       "1980-01-04      1.26  8.05  8.05  8.05   8.05\n",
       "1980-01-07      0.00  8.05  8.05  8.05   8.05\n",
       "1980-01-08      0.00  8.05  8.05  8.05   8.05"
      ]
     },
     "execution_count": 3,
     "metadata": {},
     "output_type": "execute_result"
    }
   ],
   "source": [
    "df_idx = df_idx.sort_index(axis=1, ascending=True)\n",
    "df_idx = df_idx.iloc[::-1]\n",
    "df_idx.head(5)"
   ]
  },
  {
   "cell_type": "markdown",
   "metadata": {},
   "source": [
    "#### Plot the data"
   ]
  },
  {
   "cell_type": "code",
   "execution_count": 4,
   "metadata": {},
   "outputs": [
    {
     "data": {
      "text/plain": [
       "<matplotlib.axes._subplots.AxesSubplot at 0x1f13da00208>"
      ]
     },
     "execution_count": 4,
     "metadata": {},
     "output_type": "execute_result"
    },
    {
     "data": {
      "image/png": "[encoded data removed]",
      "text/plain": [
       "<Figure size 432x288 with 1 Axes>"
      ]
     },
     "metadata": {
      "needs_background": "light"
     },
     "output_type": "display_data"
    }
   ],
   "source": [
    "data = df_idx[['Price']]\n",
    "data.plot(y='Price')"
   ]
  },
  {
   "cell_type": "code",
   "execution_count": 5,
   "metadata": {},
   "outputs": [
    {
     "name": "stdout",
     "output_type": "stream",
     "text": [
      "Total data: 37 years\n",
      "80 percent data = 1980 to 2009\n"
     ]
    }
   ],
   "source": [
    "#counting number of days from 1982 t0 present\n",
    "diff = data.index.values[-1] - data.index.values[0]\n",
    "days = diff.astype('timedelta64[D]')\n",
    "#print(days)\n",
    "days = days / np.timedelta64(1, 'D')\n",
    "#print(days)\n",
    "years = int(days/365)\n",
    "print(\"Total data: %d years\"%years)\n",
    "print(\"80 percent data = 1980 to %d\"%(1980 + int(0.8*years)))"
   ]
  },
  {
   "cell_type": "markdown",
   "metadata": {},
   "source": [
    "#### Create training and testing data"
   ]
  },
  {
   "cell_type": "code",
   "execution_count": 6,
   "metadata": {},
   "outputs": [
    {
     "data": {
      "image/png": "[encoded data removed]",
      "text/plain": [
       "<Figure size 720x864 with 1 Axes>"
      ]
     },
     "metadata": {
      "needs_background": "light"
     },
     "output_type": "display_data"
    }
   ],
   "source": [
    "split_date = pd.Timestamp('01-01-2009')\n",
    "\n",
    "train = data.loc[:split_date]\n",
    "test = data.loc[split_date:]\n",
    "\n",
    "ax = train.plot(figsize=(10,12))\n",
    "test.plot(ax=ax)\n",
    "plt.legend(['train', 'test'])\n",
    "plt.show()"
   ]
  },
  {
   "cell_type": "markdown",
   "metadata": {},
   "source": [
    "#### Normalize the dataset"
   ]
  },
  {
   "cell_type": "code",
   "execution_count": 7,
   "metadata": {},
   "outputs": [
    {
     "name": "stdout",
     "output_type": "stream",
     "text": [
      "(7452, 1)\n"
     ]
    }
   ],
   "source": [
    "from sklearn.preprocessing import MinMaxScaler\n",
    "sc = MinMaxScaler()\n",
    "train_sc = sc.fit_transform(train)\n",
    "test_sc = sc.transform(test)\n",
    "print(train_sc.shape)"
   ]
  },
  {
   "cell_type": "code",
   "execution_count": 8,
   "metadata": {},
   "outputs": [
    {
     "name": "stdout",
     "output_type": "stream",
     "text": [
      "                   Y       X_1\n",
      "Date                          \n",
      "1980-01-02  0.007526       NaN\n",
      "1980-01-03  0.006350  0.007526\n",
      "1980-01-04  0.008702  0.006350\n",
      "1980-01-07  0.008702  0.008702\n",
      "1980-01-08  0.008702  0.008702\n",
      "                 X_1\n",
      "Date                \n",
      "1980-01-03  0.007526\n",
      "1980-01-04  0.006350\n",
      "1980-01-07  0.008702\n",
      "1980-01-08  0.008702\n",
      "1980-01-09  0.008702\n",
      "                   Y\n",
      "Date                \n",
      "1980-01-03  0.006350\n",
      "1980-01-04  0.008702\n",
      "1980-01-07  0.008702\n",
      "1980-01-08  0.008702\n",
      "1980-01-09  0.007526\n"
     ]
    },
    {
     "name": "stderr",
     "output_type": "stream",
     "text": [
      "C:\\Users\\putta.reddy\\AppData\\Local\\Continuum\\anaconda3\\anaconda_new\\lib\\site-packages\\ipykernel_launcher.py:15: FutureWarning: Method .as_matrix will be removed in a future version. Use .values instead.\n",
      "  from ipykernel import kernelapp as app\n",
      "C:\\Users\\putta.reddy\\AppData\\Local\\Continuum\\anaconda3\\anaconda_new\\lib\\site-packages\\ipykernel_launcher.py:16: FutureWarning: Method .as_matrix will be removed in a future version. Use .values instead.\n",
      "  app.launch_new_instance()\n",
      "C:\\Users\\putta.reddy\\AppData\\Local\\Continuum\\anaconda3\\anaconda_new\\lib\\site-packages\\ipykernel_launcher.py:17: FutureWarning: Method .as_matrix will be removed in a future version. Use .values instead.\n",
      "C:\\Users\\putta.reddy\\AppData\\Local\\Continuum\\anaconda3\\anaconda_new\\lib\\site-packages\\ipykernel_launcher.py:18: FutureWarning: Method .as_matrix will be removed in a future version. Use .values instead.\n"
     ]
    }
   ],
   "source": [
    "train_sc_df = pd.DataFrame(train_sc, columns=['Y'], index=train.index)\n",
    "test_sc_df = pd.DataFrame(test_sc, columns=['Y'], index=test.index)\n",
    "\n",
    "for s in range(1,2):#range 1,2 means iterate only once till 1 not including 2\n",
    "    train_sc_df['X_{}'.format(s)] = train_sc_df['Y'].shift(s) #pushed 1 cell down\n",
    "    test_sc_df['X_{}'.format(s)] = test_sc_df['Y'].shift(s)\n",
    "print(train_sc_df.head(5))\n",
    "X_train = train_sc_df.dropna().drop('Y', axis=1) #dropping NAN\n",
    "print(X_train.head(5))\n",
    "y_train = train_sc_df.dropna().drop('X_1', axis=1)\n",
    "print(y_train.head(5))\n",
    "X_test = test_sc_df.dropna().drop('Y', axis=1)\n",
    "y_test = test_sc_df.dropna().drop('X_1', axis=1)\n",
    "\n",
    "X_train = X_train.as_matrix()\n",
    "y_train = y_train.as_matrix()\n",
    "X_test = X_test.as_matrix()\n",
    "y_test = y_test.as_matrix()"
   ]
  },
  {
   "cell_type": "code",
   "execution_count": 9,
   "metadata": {},
   "outputs": [
    {
     "name": "stdout",
     "output_type": "stream",
     "text": [
      "Train size: (7451 x 1)\n",
      "Test size: (2245 x 1)\n"
     ]
    }
   ],
   "source": [
    "print('Train size: (%d x %d)'%(X_train.shape[0], X_train.shape[1]))\n",
    "print('Test size: (%d x %d)'%(X_test.shape[0], X_test.shape[1]))"
   ]
  },
  {
   "cell_type": "markdown",
   "metadata": {},
   "source": [
    "## Setup baseline model of SVM Regressor"
   ]
  },
  {
   "cell_type": "code",
   "execution_count": 10,
   "metadata": {},
   "outputs": [],
   "source": [
    "from sklearn.svm import SVR\n",
    "regressor = SVR(kernel='rbf')"
   ]
  },
  {
   "cell_type": "code",
   "execution_count": 11,
   "metadata": {},
   "outputs": [
    {
     "name": "stderr",
     "output_type": "stream",
     "text": [
      "C:\\Users\\putta.reddy\\AppData\\Local\\Continuum\\anaconda3\\anaconda_new\\lib\\site-packages\\sklearn\\utils\\validation.py:761: DataConversionWarning: A column-vector y was passed when a 1d array was expected. Please change the shape of y to (n_samples, ), for example using ravel().\n",
      "  y = column_or_1d(y, warn=True)\n",
      "C:\\Users\\putta.reddy\\AppData\\Local\\Continuum\\anaconda3\\anaconda_new\\lib\\site-packages\\sklearn\\svm\\base.py:196: FutureWarning: The default value of gamma will change from 'auto' to 'scale' in version 0.22 to account better for unscaled features. Set gamma explicitly to 'auto' or 'scale' to avoid this warning.\n",
      "  \"avoid this warning.\", FutureWarning)\n"
     ]
    }
   ],
   "source": [
    "regressor.fit(X_train, y_train)\n",
    "y_pred = regressor.predict(X_test)"
   ]
  },
  {
   "cell_type": "code",
   "execution_count": 12,
   "metadata": {},
   "outputs": [
    {
     "data": {
      "text/plain": [
       "[<matplotlib.lines.Line2D at 0x1f1405abe48>]"
      ]
     },
     "execution_count": 12,
     "metadata": {},
     "output_type": "execute_result"
    },
    {
     "data": {
      "image/png": "[encoded data removed]",
      "text/plain": [
       "<Figure size 432x288 with 1 Axes>"
      ]
     },
     "metadata": {
      "needs_background": "light"
     },
     "output_type": "display_data"
    }
   ],
   "source": [
    "plt.plot(y_test)\n",
    "plt.plot(y_pred)"
   ]
  },
  {
   "cell_type": "code",
   "execution_count": 13,
   "metadata": {},
   "outputs": [
    {
     "name": "stdout",
     "output_type": "stream",
     "text": [
      "R-squared is: -0.963381\n"
     ]
    }
   ],
   "source": [
    "from sklearn.metrics import r2_score\n",
    "\n",
    "def adj_r2_score(r2, n, k):\n",
    "    return 1-((1-r2)*((n-1)/(n-k-1)))\n",
    "\n",
    "r2_test = r2_score(y_test, y_pred)\n",
    "print(\"R-squared is: %f\"%r2_test)"
   ]
  },
  {
   "cell_type": "markdown",
   "metadata": {},
   "source": [
    "## Build a Neural Network"
   ]
  },
  {
   "cell_type": "code",
   "execution_count": 14,
   "metadata": {},
   "outputs": [
    {
     "name": "stderr",
     "output_type": "stream",
     "text": [
      "C:\\Users\\putta.reddy\\AppData\\Local\\Continuum\\anaconda3\\anaconda_new\\lib\\site-packages\\h5py\\__init__.py:72: UserWarning: h5py is running against HDF5 1.10.2 when it was built against 1.10.3, this may cause problems\n",
      "  '{0}.{1}.{2}'.format(*version.hdf5_built_version_tuple)\n",
      "Using TensorFlow backend.\n"
     ]
    }
   ],
   "source": [
    "from keras.models import Sequential \n",
    "from keras.layers import Dense\n",
    "from keras.optimizers import Adam\n",
    "import keras.backend as K"
   ]
  },
  {
   "cell_type": "markdown",
   "metadata": {},
   "source": [
    "### 1 hidden layer with 1 neuron"
   ]
  },
  {
   "cell_type": "code",
   "execution_count": 15,
   "metadata": {
    "scrolled": true
   },
   "outputs": [
    {
     "name": "stdout",
     "output_type": "stream",
     "text": [
      "Epoch 1/20\n",
      "7451/7451 [==============================] - 0s 57us/step - loss: 1.1167\n",
      "Epoch 2/20\n",
      "7451/7451 [==============================] - 0s 45us/step - loss: 0.3893\n",
      "Epoch 3/20\n",
      "7451/7451 [==============================] - 0s 49us/step - loss: 0.2039\n",
      "Epoch 4/20\n",
      "7451/7451 [==============================] - 0s 49us/step - loss: 0.1671\n",
      "Epoch 5/20\n",
      "7451/7451 [==============================] - 0s 35us/step - loss: 0.1427\n",
      "Epoch 6/20\n",
      "7451/7451 [==============================] - 0s 36us/step - loss: 0.1147\n",
      "Epoch 7/20\n",
      "7451/7451 [==============================] - 0s 62us/step - loss: 0.0839\n",
      "Epoch 8/20\n",
      "7451/7451 [==============================] - 0s 47us/step - loss: 0.0554\n",
      "Epoch 9/20\n",
      "7451/7451 [==============================] - 0s 61us/step - loss: 0.0334\n",
      "Epoch 10/20\n",
      "7451/7451 [==============================] - 0s 49us/step - loss: 0.0189\n",
      "Epoch 11/20\n",
      "7451/7451 [==============================] - 0s 57us/step - loss: 0.0104\n",
      "Epoch 12/20\n",
      "7451/7451 [==============================] - 0s 40us/step - loss: 0.0059\n",
      "Epoch 13/20\n",
      "7451/7451 [==============================] - 0s 38us/step - loss: 0.0038\n",
      "Epoch 14/20\n",
      "7451/7451 [==============================] - 0s 46us/step - loss: 0.0029\n",
      "Epoch 15/20\n",
      "7451/7451 [==============================] - 0s 35us/step - loss: 0.0026\n",
      "Epoch 16/20\n",
      "7451/7451 [==============================] - 0s 46us/step - loss: 0.0025\n",
      "Epoch 17/20\n",
      "7451/7451 [==============================] - 0s 39us/step - loss: 0.0024\n",
      "Epoch 18/20\n",
      "7451/7451 [==============================] - 1s 69us/step - loss: 0.0024\n",
      "Epoch 19/20\n",
      "7451/7451 [==============================] - 1s 88us/step - loss: 0.0024\n",
      "Epoch 20/20\n",
      "7451/7451 [==============================] - 1s 106us/step - loss: 0.0024\n"
     ]
    },
    {
     "data": {
      "text/plain": [
       "<keras.callbacks.History at 0x1f144767748>"
      ]
     },
     "execution_count": 15,
     "metadata": {},
     "output_type": "execute_result"
    }
   ],
   "source": [
    "K.clear_session()\n",
    "model = Sequential()\n",
    "model.add(Dense(1, input_shape=(X_test.shape[1],), activation='tanh', kernel_initializer='lecun_uniform'))\n",
    "model.compile(optimizer=Adam(lr=0.001), loss='mean_squared_error')\n",
    "model.fit(X_train, y_train, batch_size=16, epochs=20, verbose=1)"
   ]
  },
  {
   "cell_type": "code",
   "execution_count": 16,
   "metadata": {},
   "outputs": [
    {
     "name": "stdout",
     "output_type": "stream",
     "text": [
      "R-Squared: -1.145840\n"
     ]
    },
    {
     "data": {
      "image/png": "[encoded data removed]",
      "text/plain": [
       "<Figure size 432x288 with 1 Axes>"
      ]
     },
     "metadata": {
      "needs_background": "light"
     },
     "output_type": "display_data"
    }
   ],
   "source": [
    "y_pred = model.predict(X_test)\n",
    "plt.plot(y_test)\n",
    "plt.plot(y_pred)\n",
    "print('R-Squared: %f'%(r2_score(y_test, y_pred)))"
   ]
  },
  {
   "cell_type": "markdown",
   "metadata": {},
   "source": [
    "#### 2 Hidden Layers with 50 neurons each and ReLU activation function"
   ]
  },
  {
   "cell_type": "code",
   "execution_count": 17,
   "metadata": {
    "scrolled": true
   },
   "outputs": [
    {
     "name": "stdout",
     "output_type": "stream",
     "text": [
      "Epoch 1/20\n",
      "7451/7451 [==============================] - 0s 61us/step - loss: 0.0083\n",
      "Epoch 2/20\n",
      "7451/7451 [==============================] - 0s 42us/step - loss: 1.3015e-05\n",
      "Epoch 3/20\n",
      "7451/7451 [==============================] - 0s 43us/step - loss: 1.0256e-05\n",
      "Epoch 4/20\n",
      "7451/7451 [==============================] - 0s 44us/step - loss: 9.5924e-06\n",
      "Epoch 5/20\n",
      "7451/7451 [==============================] - 0s 41us/step - loss: 1.0054e-05\n",
      "Epoch 6/20\n",
      "7451/7451 [==============================] - 0s 40us/step - loss: 1.0099e-05\n",
      "Epoch 7/20\n",
      "7451/7451 [==============================] - 0s 40us/step - loss: 1.1729e-05\n",
      "Epoch 8/20\n",
      "7451/7451 [==============================] - 0s 41us/step - loss: 1.0741e-05\n",
      "Epoch 9/20\n",
      "7451/7451 [==============================] - 0s 42us/step - loss: 1.2831e-05\n",
      "Epoch 10/20\n",
      "7451/7451 [==============================] - 0s 63us/step - loss: 1.1775e-05\n",
      "Epoch 11/20\n",
      "7451/7451 [==============================] - 1s 89us/step - loss: 1.5299e-05\n",
      "Epoch 12/20\n",
      "7451/7451 [==============================] - 1s 70us/step - loss: 1.4219e-05\n",
      "Epoch 13/20\n",
      "7451/7451 [==============================] - 0s 46us/step - loss: 1.8288e-05\n",
      "Epoch 14/20\n",
      "7451/7451 [==============================] - 0s 47us/step - loss: 1.5874e-05\n",
      "Epoch 15/20\n",
      "7451/7451 [==============================] - 0s 45us/step - loss: 2.0870e-05\n",
      "Epoch 16/20\n",
      "7451/7451 [==============================] - 0s 44us/step - loss: 2.1051e-05\n",
      "Epoch 17/20\n",
      "7451/7451 [==============================] - 0s 43us/step - loss: 1.6619e-05\n",
      "Epoch 18/20\n",
      "7451/7451 [==============================] - 0s 43us/step - loss: 2.2112e-05\n",
      "Epoch 19/20\n",
      "7451/7451 [==============================] - 0s 46us/step - loss: 2.3101e-05\n",
      "Epoch 20/20\n",
      "7451/7451 [==============================] - 0s 42us/step - loss: 1.5874e-05\n"
     ]
    },
    {
     "data": {
      "text/plain": [
       "<keras.callbacks.History at 0x1f145a156a0>"
      ]
     },
     "execution_count": 17,
     "metadata": {},
     "output_type": "execute_result"
    }
   ],
   "source": [
    "K.clear_session()\n",
    "model = Sequential()\n",
    "model.add(Dense(50, input_shape=(X_test.shape[1],), activation='relu', kernel_initializer='lecun_uniform'))\n",
    "model.add(Dense(50, input_shape=(X_test.shape[1],), activation='relu'))\n",
    "model.add(Dense(1))\n",
    "model.compile(optimizer=Adam(lr=0.001), loss='mean_squared_error')\n",
    "model.fit(X_train, y_train, batch_size=16, epochs=20, verbose=1)"
   ]
  },
  {
   "cell_type": "code",
   "execution_count": 18,
   "metadata": {},
   "outputs": [
    {
     "name": "stdout",
     "output_type": "stream",
     "text": [
      "R-Squared: 0.998716\n"
     ]
    },
    {
     "data": {
      "image/png": "[encoded data removed]",
      "text/plain": [
       "<Figure size 432x288 with 1 Axes>"
      ]
     },
     "metadata": {
      "needs_background": "light"
     },
     "output_type": "display_data"
    }
   ],
   "source": [
    "y_pred = model.predict(X_test)\n",
    "plt.plot(y_test)\n",
    "plt.plot(y_pred)\n",
    "print('R-Squared: %f'%(r2_score(y_test, y_pred)))"
   ]
  },
  {
   "cell_type": "markdown",
   "metadata": {
    "collapsed": true
   },
   "source": [
    "## Try to predict the difference between consecutive days\n",
    "### This is also known as introducing stationarity in the dataset.\n",
    "### A better test of the model is to predict stationarized data where the mean, standard deviation, autocorrelation are constant over time.\n",
    "### Because stock price data, currency exchange etc. are generated using a completely stochastic random walk process. Being able to predict future outcomes of a stochastic process is by definition not possible, and if someone claims to do this, one should be a bit skeptical [Vegard Flovik, PhD]"
   ]
  },
  {
   "cell_type": "code",
   "execution_count": null,
   "metadata": {
    "collapsed": true
   },
   "outputs": [],
   "source": []
  }
 ],
 "metadata": {
  "kernelspec": {
   "display_name": "Python 3",
   "language": "python",
   "name": "python3"
  },
  "language_info": {
   "codemirror_mode": {
    "name": "ipython",
    "version": 3
   },
   "file_extension": ".py",
   "mimetype": "text/x-python",
   "name": "python",
   "nbconvert_exporter": "python",
   "pygments_lexer": "ipython3",
   "version": "3.6.6"
  }
 },
 "nbformat": 4,
 "nbformat_minor": 2
}
