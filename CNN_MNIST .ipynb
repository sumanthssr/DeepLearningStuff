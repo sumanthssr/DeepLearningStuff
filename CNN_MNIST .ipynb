{
 "cells": [
  {
   "cell_type": "code",
   "execution_count": 0,
   "metadata": {
    "colab": {
     "base_uri": "https://localhost:8080/",
     "height": 551
    },
    "colab_type": "code",
    "executionInfo": {
     "elapsed": 1970705,
     "status": "ok",
     "timestamp": 1524577821923,
     "user": {
      "displayName": "Applied AI Course",
      "photoUrl": "//lh3.googleusercontent.com/-EsJzSyawCkQ/AAAAAAAAAAI/AAAAAAAAAWk/jhKHALKaHag/s50-c-k-no/photo.jpg",
      "userId": "116292885805316472049"
     },
     "user_tz": -330
    },
    "id": "H9EU0e8yzFOm",
    "outputId": "b9a7331d-3a52-4991-f4a2-eaa64e288eb9"
   },
   "outputs": [
    {
     "name": "stdout",
     "output_type": "stream",
     "text": [
      "x_train shape: (60000, 28, 28, 1)\n",
      "60000 train samples\n",
      "10000 test samples\n",
      "Train on 60000 samples, validate on 10000 samples\n",
      "Epoch 1/12\n",
      "58368/60000 [============================>.] - ETA: 4s - loss: 0.2633 - acc: 0.919560000/60000 [==============================] - 163s 3ms/step - loss: 0.2595 - acc: 0.9206 - val_loss: 0.0728 - val_acc: 0.9760\n",
      "Epoch 2/12\n",
      "56704/60000 [===========================>..] - ETA: 8s - loss: 0.0885 - acc: 0.973160000/60000 [==============================] - 163s 3ms/step - loss: 0.0875 - acc: 0.9734 - val_loss: 0.0412 - val_acc: 0.9855\n",
      "Epoch 3/12\n",
      "56064/60000 [===========================>..] - ETA: 10s - loss: 0.0653 - acc: 0.980360000/60000 [==============================] - 163s 3ms/step - loss: 0.0654 - acc: 0.9804 - val_loss: 0.0335 - val_acc: 0.9884\n",
      "Epoch 4/12\n",
      "55808/60000 [==========================>...] - ETA: 11s - loss: 0.0541 - acc: 0.983760000/60000 [==============================] - 172s 3ms/step - loss: 0.0543 - acc: 0.9838 - val_loss: 0.0311 - val_acc: 0.9896\n",
      "Epoch 5/12\n",
      "55680/60000 [==========================>...] - ETA: 11s - loss: 0.0474 - acc: 0.985760000/60000 [==============================] - 161s 3ms/step - loss: 0.0470 - acc: 0.9856 - val_loss: 0.0289 - val_acc: 0.9893\n",
      "Epoch 6/12\n",
      "55680/60000 [==========================>...] - ETA: 11s - loss: 0.0405 - acc: 0.987360000/60000 [==============================] - 163s 3ms/step - loss: 0.0402 - acc: 0.9874 - val_loss: 0.0280 - val_acc: 0.9900\n",
      "Epoch 7/12\n",
      "55680/60000 [==========================>...] - ETA: 11s - loss: 0.0366 - acc: 0.988260000/60000 [==============================] - 164s 3ms/step - loss: 0.0374 - acc: 0.9881 - val_loss: 0.0279 - val_acc: 0.9909\n",
      "Epoch 8/12\n",
      "55680/60000 [==========================>...] - ETA: 11s - loss: 0.0347 - acc: 0.989560000/60000 [==============================] - 163s 3ms/step - loss: 0.0341 - acc: 0.9897 - val_loss: 0.0265 - val_acc: 0.9919\n",
      "Epoch 9/12\n",
      "55680/60000 [==========================>...] - ETA: 11s - loss: 0.0318 - acc: 0.990160000/60000 [==============================] - 162s 3ms/step - loss: 0.0321 - acc: 0.9900 - val_loss: 0.0273 - val_acc: 0.9916\n",
      "Epoch 10/12\n",
      "55424/60000 [==========================>...] - ETA: 11s - loss: 0.0291 - acc: 0.991260000/60000 [==============================] - 162s 3ms/step - loss: 0.0292 - acc: 0.9911 - val_loss: 0.0274 - val_acc: 0.9913\n",
      "Epoch 11/12\n",
      "55296/60000 [==========================>...] - ETA: 12s - loss: 0.0267 - acc: 0.991660000/60000 [==============================] - 163s 3ms/step - loss: 0.0273 - acc: 0.9915 - val_loss: 0.0241 - val_acc: 0.9922\n",
      "Epoch 12/12\n",
      "55296/60000 [==========================>...] - ETA: 12s - loss: 0.0261 - acc: 0.991760000/60000 [==============================] - 161s 3ms/step - loss: 0.0259 - acc: 0.9917 - val_loss: 0.0242 - val_acc: 0.9927\n",
      "Test loss: 0.024196199060090292\n",
      "Test accuracy: 0.9927\n"
     ]
    }
   ],
   "source": [
    "# Credits: https://github.com/keras-team/keras/blob/master/examples/mnist_cnn.py\n",
    "\n",
    "\n",
    "from __future__ import print_function\n",
    "import keras\n",
    "from keras.datasets import mnist\n",
    "from keras.models import Sequential\n",
    "from keras.layers import Dense, Dropout, Flatten\n",
    "from keras.layers import Conv2D, MaxPooling2D\n",
    "from keras import backend as K\n",
    "\n",
    "batch_size = 128\n",
    "num_classes = 10\n",
    "epochs = 12\n",
    "\n",
    "# input image dimensions\n",
    "img_rows, img_cols = 28, 28\n",
    "\n",
    "# the data, split between train and test sets\n",
    "(x_train, y_train), (x_test, y_test) = mnist.load_data()\n",
    "\n",
    "#Using the image_data_format parameter,image_data_format can be set to “channels_last” or “channels_first”, which corresponds \n",
    "#to the TensorFlow or Theano dimension orders respectively.\n",
    "#Both TensorFlow and Theano expects a four dimensional tensor as input. But where TensorFlow expects the ‘channels’ \n",
    "#dimension as the last dimension (index 3, where the first is index 0) of the tensor – i.e.\n",
    "#tensor with shape (samples, rows, cols, channels) – Theano will expect ‘channels’ at the second dimension (index 1) – \n",
    "#i.e. tensor with shape (samples, channels, rows, cols). The outputs of the convolutional layers will also follow this pattern.\n",
    "\n",
    "if K.image_data_format() == 'channels_first':\n",
    "    x_train = x_train.reshape(x_train.shape[0], 1, img_rows, img_cols)\n",
    "    x_test = x_test.reshape(x_test.shape[0], 1, img_rows, img_cols)\n",
    "    input_shape = (1, img_rows, img_cols)\n",
    "else:\n",
    "    x_train = x_train.reshape(x_train.shape[0], img_rows, img_cols, 1)\n",
    "    x_test = x_test.reshape(x_test.shape[0], img_rows, img_cols, 1)\n",
    "    input_shape = (img_rows, img_cols, 1)\n",
    "\n",
    "x_train = x_train.astype('float32')\n",
    "x_test = x_test.astype('float32')\n",
    "x_train /= 255\n",
    "x_test /= 255\n",
    "print('x_train shape:', x_train.shape)\n",
    "print(x_train.shape[0], 'train samples')\n",
    "print(x_test.shape[0], 'test samples')\n",
    "\n",
    "# convert class vectors to binary class matrices\n",
    "y_train = keras.utils.to_categorical(y_train, num_classes)\n",
    "y_test = keras.utils.to_categorical(y_test, num_classes)\n",
    "\n",
    "model = Sequential()\n",
    "model.add(Conv2D(32, kernel_size=(3, 3),\n",
    "                 activation='relu',\n",
    "                 input_shape=input_shape))\n",
    "model.add(Conv2D(64, (3, 3), activation='relu'))\n",
    "model.add(MaxPooling2D(pool_size=(2, 2)))\n",
    "model.add(Dropout(0.25))\n",
    "model.add(Flatten())\n",
    "model.add(Dense(128, activation='relu'))\n",
    "model.add(Dropout(0.5))\n",
    "model.add(Dense(num_classes, activation='softmax'))\n",
    "\n",
    "model.compile(loss=keras.losses.categorical_crossentropy,\n",
    "              optimizer=keras.optimizers.Adadelta(),\n",
    "              metrics=['accuracy'])\n",
    "\n",
    "model.fit(x_train, y_train,\n",
    "          batch_size=batch_size,\n",
    "          epochs=epochs,\n",
    "          verbose=1,\n",
    "          validation_data=(x_test, y_test))\n",
    "score = model.evaluate(x_test, y_test, verbose=0)\n",
    "print('Test loss:', score[0])\n",
    "print('Test accuracy:', score[1])"
   ]
  }
 ],
 "metadata": {
  "colab": {
   "collapsed_sections": [],
   "name": "CNN_MNIST.ipynb",
   "provenance": [],
   "version": "0.3.2"
  },
  "kernelspec": {
   "display_name": "Python 3",
   "language": "python",
   "name": "python3"
  },
  "language_info": {
   "codemirror_mode": {
    "name": "ipython",
    "version": 3
   },
   "file_extension": ".py",
   "mimetype": "text/x-python",
   "name": "python",
   "nbconvert_exporter": "python",
   "pygments_lexer": "ipython3",
   "version": "3.6.6"
  }
 },
 "nbformat": 4,
 "nbformat_minor": 1
}
